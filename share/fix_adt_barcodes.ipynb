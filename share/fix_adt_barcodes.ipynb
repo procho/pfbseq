{
 "cells": [
  {
   "cell_type": "code",
   "execution_count": 10,
   "id": "700ac75a-8bd7-4b9d-b79c-b27ad7c17878",
   "metadata": {
    "tags": []
   },
   "outputs": [],
   "source": [
    "import h5py\n",
    "import pandas\n",
    "import scanpy\n",
    "import numpy"
   ]
  },
  {
   "cell_type": "code",
   "execution_count": 2,
   "id": "36f64783-cbb3-4a8e-96bf-dfc8be494915",
   "metadata": {
    "tags": []
   },
   "outputs": [],
   "source": [
    "def read_barcodes(h5):\n",
    "    h5_file = h5py.File(h5)\n",
    "    \n",
    "    bc = h5_file['matrix']['barcodes']\n",
    "    og_bc = h5_file['matrix']['observations']['original_barcodes']\n",
    "    \n",
    "    barcodes = [x.decode() for x in bc]\n",
    "    original_barcodes = [x.decode() for x in og_bc]\n",
    "    \n",
    "    df = pandas.DataFrame(\n",
    "        {'barcodes' : barcodes,\n",
    "         'original_barcodes' : original_barcodes}\n",
    "    )\n",
    "    \n",
    "    return df"
   ]
  },
  {
   "cell_type": "code",
   "execution_count": 6,
   "id": "7e276a83-3d87-46db-b8cb-8534930226c6",
   "metadata": {
    "tags": []
   },
   "outputs": [],
   "source": [
    "h5 = 'GSM5123955_X066-RP0C1W1_leukopak_perm-cells_cite_200M_rna_counts.h5'\n",
    "adt = 'GSM5123955_X066-RP0C1W1_leukopak_perm-cells_cite_48M_adt_counts.csv.gz'"
   ]
  },
  {
   "cell_type": "code",
   "execution_count": 3,
   "id": "094fec36-2378-4942-bdf0-2424d8f73bba",
   "metadata": {
    "tags": []
   },
   "outputs": [],
   "source": [
    "bc_convert = read_barcodes(h5)"
   ]
  },
  {
   "cell_type": "code",
   "execution_count": 48,
   "id": "d330afe3-98c3-447e-8e36-313fc364ddcc",
   "metadata": {
    "tags": []
   },
   "outputs": [],
   "source": [
    "adt_df = pandas.read_csv(adt)"
   ]
  },
  {
   "cell_type": "markdown",
   "id": "8ba68345-c374-4b5c-ab8e-b5064b20ae3a",
   "metadata": {},
   "source": [
    "Keep barcodes that are also in the .h5 file:"
   ]
  },
  {
   "cell_type": "code",
   "execution_count": 49,
   "id": "087ad246-c1e0-43ce-81a4-2441324b1441",
   "metadata": {
    "tags": []
   },
   "outputs": [],
   "source": [
    "adt_df = adt_df.loc[adt_df['cell_barcode'].isin(bc_convert['original_barcodes']),:]"
   ]
  },
  {
   "cell_type": "markdown",
   "id": "1209192b-4b5c-4269-acbb-49527a1bdff0",
   "metadata": {},
   "source": [
    "Convert from original to new barcodes using a dictionary:"
   ]
  },
  {
   "cell_type": "code",
   "execution_count": 50,
   "id": "5beb6e99-489b-4c6a-a1c2-b2133ee2d47f",
   "metadata": {
    "tags": []
   },
   "outputs": [],
   "source": [
    "bc_dict = dict(zip(bc_convert['original_barcodes'], bc_convert['barcodes']))"
   ]
  },
  {
   "cell_type": "code",
   "execution_count": 51,
   "id": "8647da41-430d-4171-b32b-5c3845c987cb",
   "metadata": {
    "tags": []
   },
   "outputs": [],
   "source": [
    "adt_df['barcodes'] = [bc_dict[x] for x in adt_df['cell_barcode']]"
   ]
  },
  {
   "cell_type": "markdown",
   "id": "72b74e38-ca25-4ecf-81de-c90799f7500f",
   "metadata": {},
   "source": [
    "Use the updated barcodes as an index to sort cells to match the .h5 file:"
   ]
  },
  {
   "cell_type": "code",
   "execution_count": 52,
   "id": "b3128650-d145-4e35-8287-efd0fdd32c93",
   "metadata": {
    "tags": []
   },
   "outputs": [],
   "source": [
    "adt_df = adt_df.set_index('barcodes')\n",
    "adt_df = adt_df.loc[bc_convert['barcodes'],:]"
   ]
  },
  {
   "cell_type": "markdown",
   "id": "a0bdb90d-4c12-4ae8-adcd-21f376305647",
   "metadata": {},
   "source": [
    "Drop the old barcodes and the 'total' column for use in analysis"
   ]
  },
  {
   "cell_type": "code",
   "execution_count": 55,
   "id": "1cff6c56-ceab-4330-968b-1689e1d2c150",
   "metadata": {
    "tags": []
   },
   "outputs": [],
   "source": [
    "adt_df = adt_df.drop(['cell_barcode', 'total'], axis = 1)"
   ]
  },
  {
   "cell_type": "code",
   "execution_count": 56,
   "id": "fc679781-ca1e-4e90-8117-989031877256",
   "metadata": {
    "tags": []
   },
   "outputs": [
    {
     "data": {
      "text/html": [
       "<div>\n",
       "<style scoped>\n",
       "    .dataframe tbody tr th:only-of-type {\n",
       "        vertical-align: middle;\n",
       "    }\n",
       "\n",
       "    .dataframe tbody tr th {\n",
       "        vertical-align: top;\n",
       "    }\n",
       "\n",
       "    .dataframe thead th {\n",
       "        text-align: right;\n",
       "    }\n",
       "</style>\n",
       "<table border=\"1\" class=\"dataframe\">\n",
       "  <thead>\n",
       "    <tr style=\"text-align: right;\">\n",
       "      <th></th>\n",
       "      <th>CD10</th>\n",
       "      <th>CD11b</th>\n",
       "      <th>CD11c</th>\n",
       "      <th>CD123</th>\n",
       "      <th>CD127</th>\n",
       "      <th>CD14</th>\n",
       "      <th>CD141</th>\n",
       "      <th>CD16</th>\n",
       "      <th>CD172a</th>\n",
       "      <th>CD185</th>\n",
       "      <th>...</th>\n",
       "      <th>FceRI</th>\n",
       "      <th>HLA-DR</th>\n",
       "      <th>IgD</th>\n",
       "      <th>IgG1-K-Isotype-Control</th>\n",
       "      <th>IgM</th>\n",
       "      <th>KLRG1</th>\n",
       "      <th>TCR-Va24-Ja18</th>\n",
       "      <th>TCR-Va7.2</th>\n",
       "      <th>TCR-a/b</th>\n",
       "      <th>TCR-g/d</th>\n",
       "    </tr>\n",
       "    <tr>\n",
       "      <th>barcodes</th>\n",
       "      <th></th>\n",
       "      <th></th>\n",
       "      <th></th>\n",
       "      <th></th>\n",
       "      <th></th>\n",
       "      <th></th>\n",
       "      <th></th>\n",
       "      <th></th>\n",
       "      <th></th>\n",
       "      <th></th>\n",
       "      <th></th>\n",
       "      <th></th>\n",
       "      <th></th>\n",
       "      <th></th>\n",
       "      <th></th>\n",
       "      <th></th>\n",
       "      <th></th>\n",
       "      <th></th>\n",
       "      <th></th>\n",
       "      <th></th>\n",
       "      <th></th>\n",
       "    </tr>\n",
       "  </thead>\n",
       "  <tbody>\n",
       "    <tr>\n",
       "      <th>195d17cc4f8711eb841542010a19c80f</th>\n",
       "      <td>6</td>\n",
       "      <td>2</td>\n",
       "      <td>243</td>\n",
       "      <td>29</td>\n",
       "      <td>0</td>\n",
       "      <td>272</td>\n",
       "      <td>60</td>\n",
       "      <td>54</td>\n",
       "      <td>136</td>\n",
       "      <td>0</td>\n",
       "      <td>...</td>\n",
       "      <td>5</td>\n",
       "      <td>30</td>\n",
       "      <td>0</td>\n",
       "      <td>0</td>\n",
       "      <td>3</td>\n",
       "      <td>23</td>\n",
       "      <td>10</td>\n",
       "      <td>0</td>\n",
       "      <td>11</td>\n",
       "      <td>80</td>\n",
       "    </tr>\n",
       "    <tr>\n",
       "      <th>195d18b24f8711eb841542010a19c80f</th>\n",
       "      <td>2</td>\n",
       "      <td>9</td>\n",
       "      <td>558</td>\n",
       "      <td>9</td>\n",
       "      <td>0</td>\n",
       "      <td>169</td>\n",
       "      <td>55</td>\n",
       "      <td>3</td>\n",
       "      <td>235</td>\n",
       "      <td>0</td>\n",
       "      <td>...</td>\n",
       "      <td>8</td>\n",
       "      <td>187</td>\n",
       "      <td>1</td>\n",
       "      <td>3</td>\n",
       "      <td>5</td>\n",
       "      <td>13</td>\n",
       "      <td>6</td>\n",
       "      <td>2</td>\n",
       "      <td>9</td>\n",
       "      <td>72</td>\n",
       "    </tr>\n",
       "    <tr>\n",
       "      <th>195d19204f8711eb841542010a19c80f</th>\n",
       "      <td>2</td>\n",
       "      <td>0</td>\n",
       "      <td>2</td>\n",
       "      <td>20</td>\n",
       "      <td>0</td>\n",
       "      <td>8</td>\n",
       "      <td>2</td>\n",
       "      <td>2</td>\n",
       "      <td>9</td>\n",
       "      <td>18</td>\n",
       "      <td>...</td>\n",
       "      <td>2</td>\n",
       "      <td>203</td>\n",
       "      <td>28</td>\n",
       "      <td>1</td>\n",
       "      <td>19</td>\n",
       "      <td>10</td>\n",
       "      <td>2</td>\n",
       "      <td>0</td>\n",
       "      <td>15</td>\n",
       "      <td>74</td>\n",
       "    </tr>\n",
       "    <tr>\n",
       "      <th>195d19844f8711eb841542010a19c80f</th>\n",
       "      <td>2</td>\n",
       "      <td>6</td>\n",
       "      <td>417</td>\n",
       "      <td>9</td>\n",
       "      <td>0</td>\n",
       "      <td>319</td>\n",
       "      <td>26</td>\n",
       "      <td>5</td>\n",
       "      <td>275</td>\n",
       "      <td>1</td>\n",
       "      <td>...</td>\n",
       "      <td>1</td>\n",
       "      <td>489</td>\n",
       "      <td>2</td>\n",
       "      <td>0</td>\n",
       "      <td>3</td>\n",
       "      <td>14</td>\n",
       "      <td>8</td>\n",
       "      <td>0</td>\n",
       "      <td>8</td>\n",
       "      <td>43</td>\n",
       "    </tr>\n",
       "    <tr>\n",
       "      <th>195d19e84f8711eb841542010a19c80f</th>\n",
       "      <td>0</td>\n",
       "      <td>0</td>\n",
       "      <td>2</td>\n",
       "      <td>3</td>\n",
       "      <td>3</td>\n",
       "      <td>3</td>\n",
       "      <td>1</td>\n",
       "      <td>6</td>\n",
       "      <td>3</td>\n",
       "      <td>0</td>\n",
       "      <td>...</td>\n",
       "      <td>1</td>\n",
       "      <td>1</td>\n",
       "      <td>0</td>\n",
       "      <td>1</td>\n",
       "      <td>1</td>\n",
       "      <td>7</td>\n",
       "      <td>4</td>\n",
       "      <td>0</td>\n",
       "      <td>15</td>\n",
       "      <td>40</td>\n",
       "    </tr>\n",
       "  </tbody>\n",
       "</table>\n",
       "<p>5 rows × 46 columns</p>\n",
       "</div>"
      ],
      "text/plain": [
       "                                  CD10  CD11b  CD11c  CD123  CD127  CD14  \\\n",
       "barcodes                                                                   \n",
       "195d17cc4f8711eb841542010a19c80f     6      2    243     29      0   272   \n",
       "195d18b24f8711eb841542010a19c80f     2      9    558      9      0   169   \n",
       "195d19204f8711eb841542010a19c80f     2      0      2     20      0     8   \n",
       "195d19844f8711eb841542010a19c80f     2      6    417      9      0   319   \n",
       "195d19e84f8711eb841542010a19c80f     0      0      2      3      3     3   \n",
       "\n",
       "                                  CD141  CD16  CD172a  CD185  ...  FceRI  \\\n",
       "barcodes                                                      ...          \n",
       "195d17cc4f8711eb841542010a19c80f     60    54     136      0  ...      5   \n",
       "195d18b24f8711eb841542010a19c80f     55     3     235      0  ...      8   \n",
       "195d19204f8711eb841542010a19c80f      2     2       9     18  ...      2   \n",
       "195d19844f8711eb841542010a19c80f     26     5     275      1  ...      1   \n",
       "195d19e84f8711eb841542010a19c80f      1     6       3      0  ...      1   \n",
       "\n",
       "                                  HLA-DR  IgD  IgG1-K-Isotype-Control  IgM  \\\n",
       "barcodes                                                                     \n",
       "195d17cc4f8711eb841542010a19c80f      30    0                       0    3   \n",
       "195d18b24f8711eb841542010a19c80f     187    1                       3    5   \n",
       "195d19204f8711eb841542010a19c80f     203   28                       1   19   \n",
       "195d19844f8711eb841542010a19c80f     489    2                       0    3   \n",
       "195d19e84f8711eb841542010a19c80f       1    0                       1    1   \n",
       "\n",
       "                                  KLRG1  TCR-Va24-Ja18  TCR-Va7.2  TCR-a/b  \\\n",
       "barcodes                                                                     \n",
       "195d17cc4f8711eb841542010a19c80f     23             10          0       11   \n",
       "195d18b24f8711eb841542010a19c80f     13              6          2        9   \n",
       "195d19204f8711eb841542010a19c80f     10              2          0       15   \n",
       "195d19844f8711eb841542010a19c80f     14              8          0        8   \n",
       "195d19e84f8711eb841542010a19c80f      7              4          0       15   \n",
       "\n",
       "                                  TCR-g/d  \n",
       "barcodes                                   \n",
       "195d17cc4f8711eb841542010a19c80f       80  \n",
       "195d18b24f8711eb841542010a19c80f       72  \n",
       "195d19204f8711eb841542010a19c80f       74  \n",
       "195d19844f8711eb841542010a19c80f       43  \n",
       "195d19e84f8711eb841542010a19c80f       40  \n",
       "\n",
       "[5 rows x 46 columns]"
      ]
     },
     "execution_count": 56,
     "metadata": {},
     "output_type": "execute_result"
    }
   ],
   "source": [
    "adt_df.head()"
   ]
  },
  {
   "cell_type": "markdown",
   "id": "463c1ce8-e504-44b2-950b-bb8e91a9c22a",
   "metadata": {},
   "source": [
    "Save the updated version for later use"
   ]
  },
  {
   "cell_type": "code",
   "execution_count": 57,
   "id": "357266ce-f671-4ccc-9ae4-7730056d4cf5",
   "metadata": {
    "tags": []
   },
   "outputs": [],
   "source": [
    "adt_df.to_csv('GSM5123955_X066-RP0C1W1_leukopak_perm-cells_cite_48M_adt_counts_fixed.csv')"
   ]
  },
  {
   "cell_type": "code",
   "execution_count": null,
   "id": "4f8c9650-06ee-44e5-bb33-7d21e1a3c047",
   "metadata": {},
   "outputs": [],
   "source": []
  }
 ],
 "metadata": {
  "kernelspec": {
   "display_name": "Python 3 (ipykernel)",
   "language": "python",
   "name": "python3"
  },
  "language_info": {
   "codemirror_mode": {
    "name": "ipython",
    "version": 3
   },
   "file_extension": ".py",
   "mimetype": "text/x-python",
   "name": "python",
   "nbconvert_exporter": "python",
   "pygments_lexer": "ipython3",
   "version": "3.10.12"
  }
 },
 "nbformat": 4,
 "nbformat_minor": 5
}
